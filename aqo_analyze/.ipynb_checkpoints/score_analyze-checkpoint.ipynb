{
 "cells": [
  {
   "cell_type": "code",
   "execution_count": 29,
   "id": "974fa558-485e-4bba-9b9b-b817746849ad",
   "metadata": {},
   "outputs": [],
   "source": [
    "import seaborn as sns\n",
    "import pandas as pd\n",
    "import matplotlib.pyplot as plt"
   ]
  },
  {
   "cell_type": "code",
   "execution_count": 30,
   "id": "402a9b77-7527-4487-8c51-4349c98880f3",
   "metadata": {},
   "outputs": [],
   "source": [
    "columns = ['sno', 'tno', 'gen', 'tsex', 'degree']"
   ]
  },
  {
   "cell_type": "code",
   "execution_count": 31,
   "id": "3d2bf8fc-3bf2-4fbb-b6c9-b3c3c60772d6",
   "metadata": {},
   "outputs": [
    {
     "name": "stdout",
     "output_type": "stream",
     "text": [
      "/home/alena/Yandex.Disk/aqo\n"
     ]
    }
   ],
   "source": [
    "!pwd"
   ]
  },
  {
   "cell_type": "code",
   "execution_count": 151,
   "id": "e1ee38b3-9598-46a2-80b6-eecfcb8d3ce7",
   "metadata": {},
   "outputs": [],
   "source": [
    "df = pd.read_csv('database_score.csv')"
   ]
  },
  {
   "cell_type": "code",
   "execution_count": 152,
   "id": "49d67f94-3f65-485b-8273-d629e4397ba4",
   "metadata": {},
   "outputs": [
    {
     "data": {
      "text/html": [
       "<div>\n",
       "<style scoped>\n",
       "    .dataframe tbody tr th:only-of-type {\n",
       "        vertical-align: middle;\n",
       "    }\n",
       "\n",
       "    .dataframe tbody tr th {\n",
       "        vertical-align: top;\n",
       "    }\n",
       "\n",
       "    .dataframe thead th {\n",
       "        text-align: right;\n",
       "    }\n",
       "</style>\n",
       "<table border=\"1\" class=\"dataframe\">\n",
       "  <thead>\n",
       "    <tr style=\"text-align: right;\">\n",
       "      <th></th>\n",
       "      <th>sno</th>\n",
       "      <th>tno</th>\n",
       "      <th>gen</th>\n",
       "      <th>tsex</th>\n",
       "      <th>degree</th>\n",
       "    </tr>\n",
       "  </thead>\n",
       "  <tbody>\n",
       "    <tr>\n",
       "      <th>0</th>\n",
       "      <td>89</td>\n",
       "      <td>89</td>\n",
       "      <td>0</td>\n",
       "      <td>0</td>\n",
       "      <td>4</td>\n",
       "    </tr>\n",
       "    <tr>\n",
       "      <th>1</th>\n",
       "      <td>98</td>\n",
       "      <td>98</td>\n",
       "      <td>0</td>\n",
       "      <td>1</td>\n",
       "      <td>3</td>\n",
       "    </tr>\n",
       "    <tr>\n",
       "      <th>2</th>\n",
       "      <td>63</td>\n",
       "      <td>44</td>\n",
       "      <td>0</td>\n",
       "      <td>1</td>\n",
       "      <td>3</td>\n",
       "    </tr>\n",
       "    <tr>\n",
       "      <th>3</th>\n",
       "      <td>51</td>\n",
       "      <td>43</td>\n",
       "      <td>0</td>\n",
       "      <td>1</td>\n",
       "      <td>2</td>\n",
       "    </tr>\n",
       "    <tr>\n",
       "      <th>4</th>\n",
       "      <td>81</td>\n",
       "      <td>11</td>\n",
       "      <td>0</td>\n",
       "      <td>0</td>\n",
       "      <td>4</td>\n",
       "    </tr>\n",
       "    <tr>\n",
       "      <th>...</th>\n",
       "      <td>...</td>\n",
       "      <td>...</td>\n",
       "      <td>...</td>\n",
       "      <td>...</td>\n",
       "      <td>...</td>\n",
       "    </tr>\n",
       "    <tr>\n",
       "      <th>3995</th>\n",
       "      <td>52</td>\n",
       "      <td>68</td>\n",
       "      <td>1</td>\n",
       "      <td>1</td>\n",
       "      <td>2</td>\n",
       "    </tr>\n",
       "    <tr>\n",
       "      <th>3996</th>\n",
       "      <td>14</td>\n",
       "      <td>53</td>\n",
       "      <td>1</td>\n",
       "      <td>0</td>\n",
       "      <td>4</td>\n",
       "    </tr>\n",
       "    <tr>\n",
       "      <th>3997</th>\n",
       "      <td>63</td>\n",
       "      <td>81</td>\n",
       "      <td>0</td>\n",
       "      <td>1</td>\n",
       "      <td>2</td>\n",
       "    </tr>\n",
       "    <tr>\n",
       "      <th>3998</th>\n",
       "      <td>10</td>\n",
       "      <td>58</td>\n",
       "      <td>1</td>\n",
       "      <td>0</td>\n",
       "      <td>4</td>\n",
       "    </tr>\n",
       "    <tr>\n",
       "      <th>3999</th>\n",
       "      <td>96</td>\n",
       "      <td>92</td>\n",
       "      <td>0</td>\n",
       "      <td>0</td>\n",
       "      <td>5</td>\n",
       "    </tr>\n",
       "  </tbody>\n",
       "</table>\n",
       "<p>4000 rows × 5 columns</p>\n",
       "</div>"
      ],
      "text/plain": [
       "      sno  tno  gen  tsex  degree\n",
       "0      89   89    0     0       4\n",
       "1      98   98    0     1       3\n",
       "2      63   44    0     1       3\n",
       "3      51   43    0     1       2\n",
       "4      81   11    0     0       4\n",
       "...   ...  ...  ...   ...     ...\n",
       "3995   52   68    1     1       2\n",
       "3996   14   53    1     0       4\n",
       "3997   63   81    0     1       2\n",
       "3998   10   58    1     0       4\n",
       "3999   96   92    0     0       5\n",
       "\n",
       "[4000 rows x 5 columns]"
      ]
     },
     "execution_count": 152,
     "metadata": {},
     "output_type": "execute_result"
    }
   ],
   "source": [
    "df"
   ]
  },
  {
   "cell_type": "code",
   "execution_count": 153,
   "id": "2a5cd270-1337-4d15-8255-5c0a717e0f86",
   "metadata": {},
   "outputs": [
    {
     "data": {
      "text/plain": [
       "<AxesSubplot: xlabel='tsex', ylabel='degree'>"
      ]
     },
     "execution_count": 153,
     "metadata": {},
     "output_type": "execute_result"
    },
    {
     "data": {
      "image/png": "[encoded data removed]",
      "text/plain": [
       "<Figure size 640x480 with 1 Axes>"
      ]
     },
     "metadata": {},
     "output_type": "display_data"
    }
   ],
   "source": [
    "sns.violinplot(data=df, x='tsex', y='degree', palette='Set2')"
   ]
  },
  {
   "cell_type": "code",
   "execution_count": 154,
   "id": "9ba12ec7-fcc3-4742-9c67-f883a740fd8f",
   "metadata": {},
   "outputs": [
    {
     "data": {
      "text/plain": [
       "<AxesSubplot: xlabel='gen', ylabel='degree'>"
      ]
     },
     "execution_count": 154,
     "metadata": {},
     "output_type": "execute_result"
    },
    {
     "data": {
      "image/png": "[encoded data removed]",
      "text/plain": [
       "<Figure size 640x480 with 1 Axes>"
      ]
     },
     "metadata": {},
     "output_type": "display_data"
    }
   ],
   "source": [
    "sns.violinplot(data=df, x='gen', y='degree', palette='Set2')"
   ]
  },
  {
   "cell_type": "code",
   "execution_count": 175,
   "id": "292fa825-921f-4981-a9b8-34832f2ff2bb",
   "metadata": {},
   "outputs": [],
   "source": [
    "df1 = df[(df['gen']==0)]\n",
    "df2 = df[(df['gen']==1)]\n",
    "df3 = df[(df['tsex']==0)]\n",
    "df4 = df[(df['tsex']==1)]"
   ]
  },
  {
   "cell_type": "code",
   "execution_count": 176,
   "id": "5215bc46-68b5-4b72-bb0b-143de3e3026c",
   "metadata": {},
   "outputs": [
    {
     "name": "stderr",
     "output_type": "stream",
     "text": [
      "/tmp/ipykernel_82771/2717103941.py:1: FutureWarning: this method is deprecated in favour of `Styler.format(precision=..)`\n",
      "  df1.corr(method='pearson').style.background_gradient(cmap='coolwarm').set_precision(3)\n"
     ]
    },
    {
     "data": {
      "text/html": [
       "<style type=\"text/css\">\n",
       "#T_f524f_row0_col0, #T_f524f_row1_col1, #T_f524f_row3_col3, #T_f524f_row4_col4 {\n",
       "  background-color: #b40426;\n",
       "  color: #f1f1f1;\n",
       "}\n",
       "#T_f524f_row0_col1 {\n",
       "  background-color: #5673e0;\n",
       "  color: #f1f1f1;\n",
       "}\n",
       "#T_f524f_row0_col2, #T_f524f_row1_col2, #T_f524f_row2_col0, #T_f524f_row2_col1, #T_f524f_row2_col2, #T_f524f_row2_col3, #T_f524f_row2_col4, #T_f524f_row3_col2, #T_f524f_row4_col2 {\n",
       "  background-color: #000000;\n",
       "  color: #f1f1f1;\n",
       "}\n",
       "#T_f524f_row0_col3 {\n",
       "  background-color: #d3dbe7;\n",
       "  color: #000000;\n",
       "}\n",
       "#T_f524f_row0_col4 {\n",
       "  background-color: #d6dce4;\n",
       "  color: #000000;\n",
       "}\n",
       "#T_f524f_row1_col0, #T_f524f_row3_col4, #T_f524f_row4_col1, #T_f524f_row4_col3 {\n",
       "  background-color: #3b4cc0;\n",
       "  color: #f1f1f1;\n",
       "}\n",
       "#T_f524f_row1_col3 {\n",
       "  background-color: #ead5c9;\n",
       "  color: #000000;\n",
       "}\n",
       "#T_f524f_row1_col4 {\n",
       "  background-color: #bed2f6;\n",
       "  color: #000000;\n",
       "}\n",
       "#T_f524f_row3_col0 {\n",
       "  background-color: #4257c9;\n",
       "  color: #f1f1f1;\n",
       "}\n",
       "#T_f524f_row3_col1 {\n",
       "  background-color: #90b2fe;\n",
       "  color: #000000;\n",
       "}\n",
       "#T_f524f_row4_col0 {\n",
       "  background-color: #485fd1;\n",
       "  color: #f1f1f1;\n",
       "}\n",
       "</style>\n",
       "<table id=\"T_f524f\">\n",
       "  <thead>\n",
       "    <tr>\n",
       "      <th class=\"blank level0\" >&nbsp;</th>\n",
       "      <th id=\"T_f524f_level0_col0\" class=\"col_heading level0 col0\" >sno</th>\n",
       "      <th id=\"T_f524f_level0_col1\" class=\"col_heading level0 col1\" >tno</th>\n",
       "      <th id=\"T_f524f_level0_col2\" class=\"col_heading level0 col2\" >gen</th>\n",
       "      <th id=\"T_f524f_level0_col3\" class=\"col_heading level0 col3\" >tsex</th>\n",
       "      <th id=\"T_f524f_level0_col4\" class=\"col_heading level0 col4\" >degree</th>\n",
       "    </tr>\n",
       "  </thead>\n",
       "  <tbody>\n",
       "    <tr>\n",
       "      <th id=\"T_f524f_level0_row0\" class=\"row_heading level0 row0\" >sno</th>\n",
       "      <td id=\"T_f524f_row0_col0\" class=\"data row0 col0\" >1.000</td>\n",
       "      <td id=\"T_f524f_row0_col1\" class=\"data row0 col1\" >-0.035</td>\n",
       "      <td id=\"T_f524f_row0_col2\" class=\"data row0 col2\" >nan</td>\n",
       "      <td id=\"T_f524f_row0_col3\" class=\"data row0 col3\" >-0.009</td>\n",
       "      <td id=\"T_f524f_row0_col4\" class=\"data row0 col4\" >0.011</td>\n",
       "    </tr>\n",
       "    <tr>\n",
       "      <th id=\"T_f524f_level0_row1\" class=\"row_heading level0 row1\" >tno</th>\n",
       "      <td id=\"T_f524f_row1_col0\" class=\"data row1 col0\" >-0.035</td>\n",
       "      <td id=\"T_f524f_row1_col1\" class=\"data row1 col1\" >1.000</td>\n",
       "      <td id=\"T_f524f_row1_col2\" class=\"data row1 col2\" >nan</td>\n",
       "      <td id=\"T_f524f_row1_col3\" class=\"data row1 col3\" >0.159</td>\n",
       "      <td id=\"T_f524f_row1_col4\" class=\"data row1 col4\" >-0.138</td>\n",
       "    </tr>\n",
       "    <tr>\n",
       "      <th id=\"T_f524f_level0_row2\" class=\"row_heading level0 row2\" >gen</th>\n",
       "      <td id=\"T_f524f_row2_col0\" class=\"data row2 col0\" >nan</td>\n",
       "      <td id=\"T_f524f_row2_col1\" class=\"data row2 col1\" >nan</td>\n",
       "      <td id=\"T_f524f_row2_col2\" class=\"data row2 col2\" >nan</td>\n",
       "      <td id=\"T_f524f_row2_col3\" class=\"data row2 col3\" >nan</td>\n",
       "      <td id=\"T_f524f_row2_col4\" class=\"data row2 col4\" >nan</td>\n",
       "    </tr>\n",
       "    <tr>\n",
       "      <th id=\"T_f524f_level0_row3\" class=\"row_heading level0 row3\" >tsex</th>\n",
       "      <td id=\"T_f524f_row3_col0\" class=\"data row3 col0\" >-0.009</td>\n",
       "      <td id=\"T_f524f_row3_col1\" class=\"data row3 col1\" >0.159</td>\n",
       "      <td id=\"T_f524f_row3_col2\" class=\"data row3 col2\" >nan</td>\n",
       "      <td id=\"T_f524f_row3_col3\" class=\"data row3 col3\" >1.000</td>\n",
       "      <td id=\"T_f524f_row3_col4\" class=\"data row3 col4\" >-0.879</td>\n",
       "    </tr>\n",
       "    <tr>\n",
       "      <th id=\"T_f524f_level0_row4\" class=\"row_heading level0 row4\" >degree</th>\n",
       "      <td id=\"T_f524f_row4_col0\" class=\"data row4 col0\" >0.011</td>\n",
       "      <td id=\"T_f524f_row4_col1\" class=\"data row4 col1\" >-0.138</td>\n",
       "      <td id=\"T_f524f_row4_col2\" class=\"data row4 col2\" >nan</td>\n",
       "      <td id=\"T_f524f_row4_col3\" class=\"data row4 col3\" >-0.879</td>\n",
       "      <td id=\"T_f524f_row4_col4\" class=\"data row4 col4\" >1.000</td>\n",
       "    </tr>\n",
       "  </tbody>\n",
       "</table>\n"
      ],
      "text/plain": [
       "<pandas.io.formats.style.Styler at 0x7f7a6077dc90>"
      ]
     },
     "execution_count": 176,
     "metadata": {},
     "output_type": "execute_result"
    }
   ],
   "source": [
    "df1.corr(method='pearson').style.background_gradient(cmap='coolwarm').set_precision(3)"
   ]
  },
  {
   "cell_type": "code",
   "execution_count": 177,
   "id": "d4be31a0-7630-44ca-8522-3f03cb7857e5",
   "metadata": {},
   "outputs": [
    {
     "name": "stderr",
     "output_type": "stream",
     "text": [
      "/tmp/ipykernel_82771/1007841748.py:1: FutureWarning: this method is deprecated in favour of `Styler.format(precision=..)`\n",
      "  df2.corr(method='pearson').style.background_gradient(cmap='coolwarm').set_precision(3)\n"
     ]
    },
    {
     "data": {
      "text/html": [
       "<style type=\"text/css\">\n",
       "#T_12d18_row0_col0, #T_12d18_row1_col1, #T_12d18_row3_col3, #T_12d18_row4_col4 {\n",
       "  background-color: #b40426;\n",
       "  color: #f1f1f1;\n",
       "}\n",
       "#T_12d18_row0_col1 {\n",
       "  background-color: #6687ed;\n",
       "  color: #f1f1f1;\n",
       "}\n",
       "#T_12d18_row0_col2, #T_12d18_row1_col2, #T_12d18_row2_col0, #T_12d18_row2_col1, #T_12d18_row2_col2, #T_12d18_row2_col3, #T_12d18_row2_col4, #T_12d18_row3_col2, #T_12d18_row4_col2 {\n",
       "  background-color: #000000;\n",
       "  color: #f1f1f1;\n",
       "}\n",
       "#T_12d18_row0_col3 {\n",
       "  background-color: #d7dce3;\n",
       "  color: #000000;\n",
       "}\n",
       "#T_12d18_row0_col4 {\n",
       "  background-color: #cfdaea;\n",
       "  color: #000000;\n",
       "}\n",
       "#T_12d18_row1_col0 {\n",
       "  background-color: #4b64d5;\n",
       "  color: #f1f1f1;\n",
       "}\n",
       "#T_12d18_row1_col3 {\n",
       "  background-color: #ebd3c6;\n",
       "  color: #000000;\n",
       "}\n",
       "#T_12d18_row1_col4 {\n",
       "  background-color: #bfd3f6;\n",
       "  color: #000000;\n",
       "}\n",
       "#T_12d18_row3_col0 {\n",
       "  background-color: #4961d2;\n",
       "  color: #f1f1f1;\n",
       "}\n",
       "#T_12d18_row3_col1 {\n",
       "  background-color: #94b6ff;\n",
       "  color: #000000;\n",
       "}\n",
       "#T_12d18_row3_col4, #T_12d18_row4_col0, #T_12d18_row4_col1, #T_12d18_row4_col3 {\n",
       "  background-color: #3b4cc0;\n",
       "  color: #f1f1f1;\n",
       "}\n",
       "</style>\n",
       "<table id=\"T_12d18\">\n",
       "  <thead>\n",
       "    <tr>\n",
       "      <th class=\"blank level0\" >&nbsp;</th>\n",
       "      <th id=\"T_12d18_level0_col0\" class=\"col_heading level0 col0\" >sno</th>\n",
       "      <th id=\"T_12d18_level0_col1\" class=\"col_heading level0 col1\" >tno</th>\n",
       "      <th id=\"T_12d18_level0_col2\" class=\"col_heading level0 col2\" >gen</th>\n",
       "      <th id=\"T_12d18_level0_col3\" class=\"col_heading level0 col3\" >tsex</th>\n",
       "      <th id=\"T_12d18_level0_col4\" class=\"col_heading level0 col4\" >degree</th>\n",
       "    </tr>\n",
       "  </thead>\n",
       "  <tbody>\n",
       "    <tr>\n",
       "      <th id=\"T_12d18_level0_row0\" class=\"row_heading level0 row0\" >sno</th>\n",
       "      <td id=\"T_12d18_row0_col0\" class=\"data row0 col0\" >1.000</td>\n",
       "      <td id=\"T_12d18_row0_col1\" class=\"data row0 col1\" >0.024</td>\n",
       "      <td id=\"T_12d18_row0_col2\" class=\"data row0 col2\" >nan</td>\n",
       "      <td id=\"T_12d18_row0_col3\" class=\"data row0 col3\" >0.017</td>\n",
       "      <td id=\"T_12d18_row0_col4\" class=\"data row0 col4\" >-0.035</td>\n",
       "    </tr>\n",
       "    <tr>\n",
       "      <th id=\"T_12d18_level0_row1\" class=\"row_heading level0 row1\" >tno</th>\n",
       "      <td id=\"T_12d18_row1_col0\" class=\"data row1 col0\" >0.024</td>\n",
       "      <td id=\"T_12d18_row1_col1\" class=\"data row1 col1\" >1.000</td>\n",
       "      <td id=\"T_12d18_row1_col2\" class=\"data row1 col2\" >nan</td>\n",
       "      <td id=\"T_12d18_row1_col3\" class=\"data row1 col3\" >0.175</td>\n",
       "      <td id=\"T_12d18_row1_col4\" class=\"data row1 col4\" >-0.133</td>\n",
       "    </tr>\n",
       "    <tr>\n",
       "      <th id=\"T_12d18_level0_row2\" class=\"row_heading level0 row2\" >gen</th>\n",
       "      <td id=\"T_12d18_row2_col0\" class=\"data row2 col0\" >nan</td>\n",
       "      <td id=\"T_12d18_row2_col1\" class=\"data row2 col1\" >nan</td>\n",
       "      <td id=\"T_12d18_row2_col2\" class=\"data row2 col2\" >nan</td>\n",
       "      <td id=\"T_12d18_row2_col3\" class=\"data row2 col3\" >nan</td>\n",
       "      <td id=\"T_12d18_row2_col4\" class=\"data row2 col4\" >nan</td>\n",
       "    </tr>\n",
       "    <tr>\n",
       "      <th id=\"T_12d18_level0_row3\" class=\"row_heading level0 row3\" >tsex</th>\n",
       "      <td id=\"T_12d18_row3_col0\" class=\"data row3 col0\" >0.017</td>\n",
       "      <td id=\"T_12d18_row3_col1\" class=\"data row3 col1\" >0.175</td>\n",
       "      <td id=\"T_12d18_row3_col2\" class=\"data row3 col2\" >nan</td>\n",
       "      <td id=\"T_12d18_row3_col3\" class=\"data row3 col3\" >1.000</td>\n",
       "      <td id=\"T_12d18_row3_col4\" class=\"data row3 col4\" >-0.881</td>\n",
       "    </tr>\n",
       "    <tr>\n",
       "      <th id=\"T_12d18_level0_row4\" class=\"row_heading level0 row4\" >degree</th>\n",
       "      <td id=\"T_12d18_row4_col0\" class=\"data row4 col0\" >-0.035</td>\n",
       "      <td id=\"T_12d18_row4_col1\" class=\"data row4 col1\" >-0.133</td>\n",
       "      <td id=\"T_12d18_row4_col2\" class=\"data row4 col2\" >nan</td>\n",
       "      <td id=\"T_12d18_row4_col3\" class=\"data row4 col3\" >-0.881</td>\n",
       "      <td id=\"T_12d18_row4_col4\" class=\"data row4 col4\" >1.000</td>\n",
       "    </tr>\n",
       "  </tbody>\n",
       "</table>\n"
      ],
      "text/plain": [
       "<pandas.io.formats.style.Styler at 0x7f7a60739840>"
      ]
     },
     "execution_count": 177,
     "metadata": {},
     "output_type": "execute_result"
    }
   ],
   "source": [
    "df2.corr(method='pearson').style.background_gradient(cmap='coolwarm').set_precision(3)"
   ]
  },
  {
   "cell_type": "code",
   "execution_count": 148,
   "id": "9f0b278d-57c1-4f45-a535-2e79a8b1d917",
   "metadata": {},
   "outputs": [
    {
     "name": "stderr",
     "output_type": "stream",
     "text": [
      "/tmp/ipykernel_82771/1813472046.py:1: FutureWarning: this method is deprecated in favour of `Styler.format(precision=..)`\n",
      "  df3.corr(method='pearson').style.background_gradient(cmap='coolwarm').set_precision(3)\n"
     ]
    },
    {
     "data": {
      "text/html": [
       "<style type=\"text/css\">\n",
       "#T_b9912_row0_col0, #T_b9912_row1_col1, #T_b9912_row2_col2, #T_b9912_row4_col4 {\n",
       "  background-color: #b40426;\n",
       "  color: #f1f1f1;\n",
       "}\n",
       "#T_b9912_row0_col1, #T_b9912_row0_col4, #T_b9912_row1_col0, #T_b9912_row1_col2 {\n",
       "  background-color: #3b4cc0;\n",
       "  color: #f1f1f1;\n",
       "}\n",
       "#T_b9912_row0_col2, #T_b9912_row2_col1 {\n",
       "  background-color: #3c4ec2;\n",
       "  color: #f1f1f1;\n",
       "}\n",
       "#T_b9912_row0_col3, #T_b9912_row1_col3, #T_b9912_row2_col3, #T_b9912_row3_col0, #T_b9912_row3_col1, #T_b9912_row3_col2, #T_b9912_row3_col3, #T_b9912_row3_col4, #T_b9912_row4_col3 {\n",
       "  background-color: #000000;\n",
       "  color: #f1f1f1;\n",
       "}\n",
       "#T_b9912_row1_col4 {\n",
       "  background-color: #485fd1;\n",
       "  color: #f1f1f1;\n",
       "}\n",
       "#T_b9912_row2_col0 {\n",
       "  background-color: #3e51c5;\n",
       "  color: #f1f1f1;\n",
       "}\n",
       "#T_b9912_row2_col4 {\n",
       "  background-color: #455cce;\n",
       "  color: #f1f1f1;\n",
       "}\n",
       "#T_b9912_row4_col0 {\n",
       "  background-color: #4257c9;\n",
       "  color: #f1f1f1;\n",
       "}\n",
       "#T_b9912_row4_col1 {\n",
       "  background-color: #4f69d9;\n",
       "  color: #f1f1f1;\n",
       "}\n",
       "#T_b9912_row4_col2 {\n",
       "  background-color: #4b64d5;\n",
       "  color: #f1f1f1;\n",
       "}\n",
       "</style>\n",
       "<table id=\"T_b9912\">\n",
       "  <thead>\n",
       "    <tr>\n",
       "      <th class=\"blank level0\" >&nbsp;</th>\n",
       "      <th id=\"T_b9912_level0_col0\" class=\"col_heading level0 col0\" >sno</th>\n",
       "      <th id=\"T_b9912_level0_col1\" class=\"col_heading level0 col1\" >tno</th>\n",
       "      <th id=\"T_b9912_level0_col2\" class=\"col_heading level0 col2\" >gen</th>\n",
       "      <th id=\"T_b9912_level0_col3\" class=\"col_heading level0 col3\" >tsex</th>\n",
       "      <th id=\"T_b9912_level0_col4\" class=\"col_heading level0 col4\" >degree</th>\n",
       "    </tr>\n",
       "  </thead>\n",
       "  <tbody>\n",
       "    <tr>\n",
       "      <th id=\"T_b9912_level0_row0\" class=\"row_heading level0 row0\" >sno</th>\n",
       "      <td id=\"T_b9912_row0_col0\" class=\"data row0 col0\" >1.000</td>\n",
       "      <td id=\"T_b9912_row0_col1\" class=\"data row0 col1\" >-0.033</td>\n",
       "      <td id=\"T_b9912_row0_col2\" class=\"data row0 col2\" >-0.019</td>\n",
       "      <td id=\"T_b9912_row0_col3\" class=\"data row0 col3\" >nan</td>\n",
       "      <td id=\"T_b9912_row0_col4\" class=\"data row0 col4\" >-0.007</td>\n",
       "    </tr>\n",
       "    <tr>\n",
       "      <th id=\"T_b9912_level0_row1\" class=\"row_heading level0 row1\" >tno</th>\n",
       "      <td id=\"T_b9912_row1_col0\" class=\"data row1 col0\" >-0.033</td>\n",
       "      <td id=\"T_b9912_row1_col1\" class=\"data row1 col1\" >1.000</td>\n",
       "      <td id=\"T_b9912_row1_col2\" class=\"data row1 col2\" >-0.026</td>\n",
       "      <td id=\"T_b9912_row1_col3\" class=\"data row1 col3\" >nan</td>\n",
       "      <td id=\"T_b9912_row1_col4\" class=\"data row1 col4\" >0.037</td>\n",
       "    </tr>\n",
       "    <tr>\n",
       "      <th id=\"T_b9912_level0_row2\" class=\"row_heading level0 row2\" >gen</th>\n",
       "      <td id=\"T_b9912_row2_col0\" class=\"data row2 col0\" >-0.019</td>\n",
       "      <td id=\"T_b9912_row2_col1\" class=\"data row2 col1\" >-0.026</td>\n",
       "      <td id=\"T_b9912_row2_col2\" class=\"data row2 col2\" >1.000</td>\n",
       "      <td id=\"T_b9912_row2_col3\" class=\"data row2 col3\" >nan</td>\n",
       "      <td id=\"T_b9912_row2_col4\" class=\"data row2 col4\" >0.030</td>\n",
       "    </tr>\n",
       "    <tr>\n",
       "      <th id=\"T_b9912_level0_row3\" class=\"row_heading level0 row3\" >tsex</th>\n",
       "      <td id=\"T_b9912_row3_col0\" class=\"data row3 col0\" >nan</td>\n",
       "      <td id=\"T_b9912_row3_col1\" class=\"data row3 col1\" >nan</td>\n",
       "      <td id=\"T_b9912_row3_col2\" class=\"data row3 col2\" >nan</td>\n",
       "      <td id=\"T_b9912_row3_col3\" class=\"data row3 col3\" >nan</td>\n",
       "      <td id=\"T_b9912_row3_col4\" class=\"data row3 col4\" >nan</td>\n",
       "    </tr>\n",
       "    <tr>\n",
       "      <th id=\"T_b9912_level0_row4\" class=\"row_heading level0 row4\" >degree</th>\n",
       "      <td id=\"T_b9912_row4_col0\" class=\"data row4 col0\" >-0.007</td>\n",
       "      <td id=\"T_b9912_row4_col1\" class=\"data row4 col1\" >0.037</td>\n",
       "      <td id=\"T_b9912_row4_col2\" class=\"data row4 col2\" >0.030</td>\n",
       "      <td id=\"T_b9912_row4_col3\" class=\"data row4 col3\" >nan</td>\n",
       "      <td id=\"T_b9912_row4_col4\" class=\"data row4 col4\" >1.000</td>\n",
       "    </tr>\n",
       "  </tbody>\n",
       "</table>\n"
      ],
      "text/plain": [
       "<pandas.io.formats.style.Styler at 0x7f7a60758d90>"
      ]
     },
     "execution_count": 167,
     "metadata": {},
     "output_type": "execute_result"
    }
   ],
   "source": [
    "df3.corr(method='pearson').style.background_gradient(cmap='coolwarm').set_precision(3)"
   ]
  },
  {
   "cell_type": "code",
   "execution_count": 149,
   "id": "59ad7375-fdfe-47d6-9fa0-a35e2206d842",
   "metadata": {},
   "outputs": [
    {
     "name": "stderr",
     "output_type": "stream",
     "text": [
      "/tmp/ipykernel_82771/3856550720.py:1: FutureWarning: this method is deprecated in favour of `Styler.format(precision=..)`\n",
      "  df4.corr(method='pearson').style.background_gradient(cmap='coolwarm').set_precision(3)\n"
     ]
    },
    {
     "data": {
      "text/html": [
       "<style type=\"text/css\">\n",
       "#T_3a16d_row0_col0, #T_3a16d_row1_col1, #T_3a16d_row2_col2, #T_3a16d_row4_col4 {\n",
       "  background-color: #b40426;\n",
       "  color: #f1f1f1;\n",
       "}\n",
       "#T_3a16d_row0_col1, #T_3a16d_row2_col0 {\n",
       "  background-color: #4055c8;\n",
       "  color: #f1f1f1;\n",
       "}\n",
       "#T_3a16d_row0_col2 {\n",
       "  background-color: #3f53c6;\n",
       "  color: #f1f1f1;\n",
       "}\n",
       "#T_3a16d_row0_col3, #T_3a16d_row1_col3, #T_3a16d_row2_col3, #T_3a16d_row3_col0, #T_3a16d_row3_col1, #T_3a16d_row3_col2, #T_3a16d_row3_col3, #T_3a16d_row3_col4, #T_3a16d_row4_col3 {\n",
       "  background-color: #000000;\n",
       "  color: #f1f1f1;\n",
       "}\n",
       "#T_3a16d_row0_col4, #T_3a16d_row1_col2, #T_3a16d_row2_col1, #T_3a16d_row4_col0 {\n",
       "  background-color: #3b4cc0;\n",
       "  color: #f1f1f1;\n",
       "}\n",
       "#T_3a16d_row1_col0, #T_3a16d_row1_col4, #T_3a16d_row4_col1 {\n",
       "  background-color: #4257c9;\n",
       "  color: #f1f1f1;\n",
       "}\n",
       "#T_3a16d_row2_col4, #T_3a16d_row4_col2 {\n",
       "  background-color: #3d50c3;\n",
       "  color: #f1f1f1;\n",
       "}\n",
       "</style>\n",
       "<table id=\"T_3a16d\">\n",
       "  <thead>\n",
       "    <tr>\n",
       "      <th class=\"blank level0\" >&nbsp;</th>\n",
       "      <th id=\"T_3a16d_level0_col0\" class=\"col_heading level0 col0\" >sno</th>\n",
       "      <th id=\"T_3a16d_level0_col1\" class=\"col_heading level0 col1\" >tno</th>\n",
       "      <th id=\"T_3a16d_level0_col2\" class=\"col_heading level0 col2\" >gen</th>\n",
       "      <th id=\"T_3a16d_level0_col3\" class=\"col_heading level0 col3\" >tsex</th>\n",
       "      <th id=\"T_3a16d_level0_col4\" class=\"col_heading level0 col4\" >degree</th>\n",
       "    </tr>\n",
       "  </thead>\n",
       "  <tbody>\n",
       "    <tr>\n",
       "      <th id=\"T_3a16d_level0_row0\" class=\"row_heading level0 row0\" >sno</th>\n",
       "      <td id=\"T_3a16d_row0_col0\" class=\"data row0 col0\" >1.000</td>\n",
       "      <td id=\"T_3a16d_row0_col1\" class=\"data row0 col1\" >0.009</td>\n",
       "      <td id=\"T_3a16d_row0_col2\" class=\"data row0 col2\" >0.006</td>\n",
       "      <td id=\"T_3a16d_row0_col3\" class=\"data row0 col3\" >nan</td>\n",
       "      <td id=\"T_3a16d_row0_col4\" class=\"data row0 col4\" >-0.016</td>\n",
       "    </tr>\n",
       "    <tr>\n",
       "      <th id=\"T_3a16d_level0_row1\" class=\"row_heading level0 row1\" >tno</th>\n",
       "      <td id=\"T_3a16d_row1_col0\" class=\"data row1 col0\" >0.009</td>\n",
       "      <td id=\"T_3a16d_row1_col1\" class=\"data row1 col1\" >1.000</td>\n",
       "      <td id=\"T_3a16d_row1_col2\" class=\"data row1 col2\" >-0.013</td>\n",
       "      <td id=\"T_3a16d_row1_col3\" class=\"data row1 col3\" >nan</td>\n",
       "      <td id=\"T_3a16d_row1_col4\" class=\"data row1 col4\" >0.012</td>\n",
       "    </tr>\n",
       "    <tr>\n",
       "      <th id=\"T_3a16d_level0_row2\" class=\"row_heading level0 row2\" >gen</th>\n",
       "      <td id=\"T_3a16d_row2_col0\" class=\"data row2 col0\" >0.006</td>\n",
       "      <td id=\"T_3a16d_row2_col1\" class=\"data row2 col1\" >-0.013</td>\n",
       "      <td id=\"T_3a16d_row2_col2\" class=\"data row2 col2\" >1.000</td>\n",
       "      <td id=\"T_3a16d_row2_col3\" class=\"data row2 col3\" >nan</td>\n",
       "      <td id=\"T_3a16d_row2_col4\" class=\"data row2 col4\" >-0.005</td>\n",
       "    </tr>\n",
       "    <tr>\n",
       "      <th id=\"T_3a16d_level0_row3\" class=\"row_heading level0 row3\" >tsex</th>\n",
       "      <td id=\"T_3a16d_row3_col0\" class=\"data row3 col0\" >nan</td>\n",
       "      <td id=\"T_3a16d_row3_col1\" class=\"data row3 col1\" >nan</td>\n",
       "      <td id=\"T_3a16d_row3_col2\" class=\"data row3 col2\" >nan</td>\n",
       "      <td id=\"T_3a16d_row3_col3\" class=\"data row3 col3\" >nan</td>\n",
       "      <td id=\"T_3a16d_row3_col4\" class=\"data row3 col4\" >nan</td>\n",
       "    </tr>\n",
       "    <tr>\n",
       "      <th id=\"T_3a16d_level0_row4\" class=\"row_heading level0 row4\" >degree</th>\n",
       "      <td id=\"T_3a16d_row4_col0\" class=\"data row4 col0\" >-0.016</td>\n",
       "      <td id=\"T_3a16d_row4_col1\" class=\"data row4 col1\" >0.012</td>\n",
       "      <td id=\"T_3a16d_row4_col2\" class=\"data row4 col2\" >-0.005</td>\n",
       "      <td id=\"T_3a16d_row4_col3\" class=\"data row4 col3\" >nan</td>\n",
       "      <td id=\"T_3a16d_row4_col4\" class=\"data row4 col4\" >1.000</td>\n",
       "    </tr>\n",
       "  </tbody>\n",
       "</table>\n"
      ],
      "text/plain": [
       "<pandas.io.formats.style.Styler at 0x7f7a605b32b0>"
      ]
     },
     "execution_count": 168,
     "metadata": {},
     "output_type": "execute_result"
    }
   ],
   "source": [
    "df4.corr(method='pearson').style.background_gradient(cmap='coolwarm').set_precision(3)"
   ]
  },
  {
   "cell_type": "code",
   "execution_count": 150,
   "id": "19e615f0-7950-4214-b06b-5eaab2fdff28",
   "metadata": {},
   "outputs": [],
   "source": [
    "df0_0 = df[df['gen']==0]"
   ]
  },
  {
   "cell_type": "code",
   "execution_count": 103,
   "id": "2d665bf8-5367-4f87-8929-e3f639e57a32",
   "metadata": {},
   "outputs": [],
   "source": [
    "df0_0 = df0_0[df0_0['tsex']==0]"
   ]
  },
  {
   "cell_type": "code",
   "execution_count": 104,
   "id": "36c83d0f-d31e-4da8-9cad-6fb7ccb10e6d",
   "metadata": {},
   "outputs": [
    {
     "data": {
      "text/plain": [
       "sno       974\n",
       "tno       974\n",
       "gen       974\n",
       "tsex      974\n",
       "degree    974\n",
       "dtype: int64"
      ]
     },
     "execution_count": 104,
     "metadata": {},
     "output_type": "execute_result"
    }
   ],
   "source": [
    "df0_0.count()"
   ]
  },
  {
   "cell_type": "code",
   "execution_count": 105,
   "id": "34028d22-e6fb-4877-8f94-d2e1da087eba",
   "metadata": {},
   "outputs": [
    {
     "data": {
      "text/plain": [
       "sno       477\n",
       "tno       477\n",
       "gen       477\n",
       "tsex      477\n",
       "degree    477\n",
       "dtype: int64"
      ]
     },
     "execution_count": 105,
     "metadata": {},
     "output_type": "execute_result"
    }
   ],
   "source": [
    "df0_0[df0_0['degree']==4].count()"
   ]
  },
  {
   "cell_type": "code",
   "execution_count": 106,
   "id": "cfe323df-9aa0-4eda-8e4e-7f5799595e76",
   "metadata": {},
   "outputs": [],
   "source": [
    "df0_1 = df[df['gen']==0]"
   ]
  },
  {
   "cell_type": "code",
   "execution_count": 107,
   "id": "d2528299-9fa6-4216-bc24-b97e5c80f689",
   "metadata": {},
   "outputs": [],
   "source": [
    "df0_1 = df0_1[df0_1['tsex']==1]"
   ]
  },
  {
   "cell_type": "code",
   "execution_count": 108,
   "id": "22d17e58-a402-4f4b-89ff-6de07e72dbbd",
   "metadata": {},
   "outputs": [
    {
     "data": {
      "text/plain": [
       "sno       986\n",
       "tno       986\n",
       "gen       986\n",
       "tsex      986\n",
       "degree    986\n",
       "dtype: int64"
      ]
     },
     "execution_count": 108,
     "metadata": {},
     "output_type": "execute_result"
    }
   ],
   "source": [
    "df0_1.count()"
   ]
  },
  {
   "cell_type": "code",
   "execution_count": 109,
   "id": "d33968f2-8d18-44c0-aa72-241c70284f61",
   "metadata": {},
   "outputs": [],
   "source": [
    "df1_1 = df[df['gen']==1]\n",
    "df1_1 = df1_1[df1_1['tsex']==1]"
   ]
  },
  {
   "cell_type": "code",
   "execution_count": 110,
   "id": "c02d5351-2e7c-4cfa-99f3-6154e35d7fcf",
   "metadata": {},
   "outputs": [
    {
     "data": {
      "text/plain": [
       "sno       1056\n",
       "tno       1056\n",
       "gen       1056\n",
       "tsex      1056\n",
       "degree    1056\n",
       "dtype: int64"
      ]
     },
     "execution_count": 110,
     "metadata": {},
     "output_type": "execute_result"
    }
   ],
   "source": [
    "df1_1.count()"
   ]
  },
  {
   "cell_type": "code",
   "execution_count": 111,
   "id": "89bd4e24-ba80-49e2-b727-047a97956b7a",
   "metadata": {},
   "outputs": [
    {
     "data": {
      "text/plain": [
       "Index(['sno', 'tno', 'gen', 'tsex', 'degree'], dtype='object')"
      ]
     },
     "execution_count": 111,
     "metadata": {},
     "output_type": "execute_result"
    }
   ],
   "source": [
    "df.columns"
   ]
  },
  {
   "cell_type": "code",
   "execution_count": 112,
   "id": "d905e6ad-b0d9-4a5b-a1e4-fbe6965ddaf7",
   "metadata": {},
   "outputs": [],
   "source": [
    "columns_descr = ['score', 'text_length', 'degree']"
   ]
  },
  {
   "cell_type": "code",
   "execution_count": null,
   "id": "8f3ec637-071a-4f73-8027-5de949eb33ea",
   "metadata": {},
   "outputs": [],
   "source": []
  }
 ],
 "metadata": {
  "kernelspec": {
   "display_name": "my_env",
   "language": "python",
   "name": "my_env"
  },
  "language_info": {
   "codemirror_mode": {
    "name": "ipython",
    "version": 3
   },
   "file_extension": ".py",
   "mimetype": "text/x-python",
   "name": "python",
   "nbconvert_exporter": "python",
   "pygments_lexer": "ipython3",
   "version": "3.10.8"
  }
 },
 "nbformat": 4,
 "nbformat_minor": 5
}
