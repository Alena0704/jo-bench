{
 "cells": [
  {
   "cell_type": "code",
   "execution_count": 1,
   "id": "3fd1b673",
   "metadata": {},
   "outputs": [],
   "source": [
    "import pandas as pd"
   ]
  },
  {
   "cell_type": "code",
   "execution_count": 6,
   "id": "33a3013a",
   "metadata": {},
   "outputs": [],
   "source": [
    "columns = ['id','person_id',\n",
    "    'name','imdb_index','name_pcode_cf',\n",
    "    'name_pcode_nf','surname_pcode',\n",
    "    'md5sum']"
   ]
  },
  {
   "cell_type": "code",
   "execution_count": 11,
   "id": "c5376bbf",
   "metadata": {},
   "outputs": [],
   "source": [
    "df = pd.read_csv('~/aka_name.csv')"
   ]
  },
  {
   "cell_type": "code",
   "execution_count": 12,
   "id": "d573f4e5",
   "metadata": {},
   "outputs": [
    {
     "data": {
      "text/html": [
       "<div>\n",
       "<style scoped>\n",
       "    .dataframe tbody tr th:only-of-type {\n",
       "        vertical-align: middle;\n",
       "    }\n",
       "\n",
       "    .dataframe tbody tr th {\n",
       "        vertical-align: top;\n",
       "    }\n",
       "\n",
       "    .dataframe thead th {\n",
       "        text-align: right;\n",
       "    }\n",
       "</style>\n",
       "<table border=\"1\" class=\"dataframe\">\n",
       "  <thead>\n",
       "    <tr style=\"text-align: right;\">\n",
       "      <th></th>\n",
       "      <th>id</th>\n",
       "      <th>person_id</th>\n",
       "      <th>name</th>\n",
       "      <th>imdb_index</th>\n",
       "      <th>name_pcode_cf</th>\n",
       "      <th>name_pcode_nf</th>\n",
       "      <th>surname_pcode</th>\n",
       "      <th>md5sum</th>\n",
       "    </tr>\n",
       "  </thead>\n",
       "  <tbody>\n",
       "    <tr>\n",
       "      <th>0</th>\n",
       "      <td>1</td>\n",
       "      <td>4061927.0</td>\n",
       "      <td>Smith, Jessica Noel</td>\n",
       "      <td>NaN</td>\n",
       "      <td>S5325</td>\n",
       "      <td>J2542</td>\n",
       "      <td>S53</td>\n",
       "      <td>25c9d464e3ff2957533546aa92b397ed</td>\n",
       "    </tr>\n",
       "    <tr>\n",
       "      <th>1</th>\n",
       "      <td>2</td>\n",
       "      <td>4.0</td>\n",
       "      <td>Short, Too</td>\n",
       "      <td>NaN</td>\n",
       "      <td>S63</td>\n",
       "      <td>T263</td>\n",
       "      <td>NaN</td>\n",
       "      <td>4e26116e5f9800cef90c8f8c38de2584</td>\n",
       "    </tr>\n",
       "    <tr>\n",
       "      <th>2</th>\n",
       "      <td>3</td>\n",
       "      <td>2701136.0</td>\n",
       "      <td>Abdul-Hamid, Jaffar</td>\n",
       "      <td>NaN</td>\n",
       "      <td>A1345</td>\n",
       "      <td>J1613</td>\n",
       "      <td>NaN</td>\n",
       "      <td>fb5126fe9992e13156c636d726cec257</td>\n",
       "    </tr>\n",
       "    <tr>\n",
       "      <th>3</th>\n",
       "      <td>4</td>\n",
       "      <td>2701136.0</td>\n",
       "      <td>Al-Hamid, Jaffar Abd</td>\n",
       "      <td>NaN</td>\n",
       "      <td>A4532</td>\n",
       "      <td>J1613</td>\n",
       "      <td>A453</td>\n",
       "      <td>179ad5f75c84c4bddd6733c66b6b0bb7</td>\n",
       "    </tr>\n",
       "    <tr>\n",
       "      <th>4</th>\n",
       "      <td>5</td>\n",
       "      <td>15.0</td>\n",
       "      <td>Viera, Michael 'Power'</td>\n",
       "      <td>NaN</td>\n",
       "      <td>V6524</td>\n",
       "      <td>M2416</td>\n",
       "      <td>V6</td>\n",
       "      <td>354cea2b99f8b1f745ea6092eefa2bd7</td>\n",
       "    </tr>\n",
       "    <tr>\n",
       "      <th>...</th>\n",
       "      <td>...</td>\n",
       "      <td>...</td>\n",
       "      <td>...</td>\n",
       "      <td>...</td>\n",
       "      <td>...</td>\n",
       "      <td>...</td>\n",
       "      <td>...</td>\n",
       "      <td>...</td>\n",
       "    </tr>\n",
       "    <tr>\n",
       "      <th>45288</th>\n",
       "      <td>45290</td>\n",
       "      <td>117569.0</td>\n",
       "      <td>Belassky, Marty</td>\n",
       "      <td>NaN</td>\n",
       "      <td>B4256</td>\n",
       "      <td>M6314</td>\n",
       "      <td>B42</td>\n",
       "      <td>741cfe1297594d5bf1d23ef2a048ae7d</td>\n",
       "    </tr>\n",
       "    <tr>\n",
       "      <th>45289</th>\n",
       "      <td>45291</td>\n",
       "      <td>117572.0</td>\n",
       "      <td>Bellagio, Enrico</td>\n",
       "      <td>NaN</td>\n",
       "      <td>B4256</td>\n",
       "      <td>E5621</td>\n",
       "      <td>B42</td>\n",
       "      <td>2f321c03489dec81ed7a4a68f441c788</td>\n",
       "    </tr>\n",
       "    <tr>\n",
       "      <th>45290</th>\n",
       "      <td>45292</td>\n",
       "      <td>117575.0</td>\n",
       "      <td>Nour</td>\n",
       "      <td>NaN</td>\n",
       "      <td>N6</td>\n",
       "      <td>NaN</td>\n",
       "      <td>NaN</td>\n",
       "      <td>9ceb5b2ab20ce8664d5744f7c8c52b72</td>\n",
       "    </tr>\n",
       "    <tr>\n",
       "      <th>45291</th>\n",
       "      <td>45293</td>\n",
       "      <td>117577.0</td>\n",
       "      <td>Prince, Franck</td>\n",
       "      <td>NaN</td>\n",
       "      <td>P6521</td>\n",
       "      <td>F6521</td>\n",
       "      <td>P652</td>\n",
       "      <td>94b1d9117b31540b8d816dfbe1b92f96</td>\n",
       "    </tr>\n",
       "    <tr>\n",
       "      <th>45292</th>\n",
       "      <td>4529</td>\n",
       "      <td>NaN</td>\n",
       "      <td>NaN</td>\n",
       "      <td>NaN</td>\n",
       "      <td>NaN</td>\n",
       "      <td>NaN</td>\n",
       "      <td>NaN</td>\n",
       "      <td>NaN</td>\n",
       "    </tr>\n",
       "  </tbody>\n",
       "</table>\n",
       "<p>45293 rows × 8 columns</p>\n",
       "</div>"
      ],
      "text/plain": [
       "          id  person_id                    name  imdb_index name_pcode_cf  \\\n",
       "0          1  4061927.0     Smith, Jessica Noel         NaN         S5325   \n",
       "1          2        4.0              Short, Too         NaN           S63   \n",
       "2          3  2701136.0     Abdul-Hamid, Jaffar         NaN         A1345   \n",
       "3          4  2701136.0    Al-Hamid, Jaffar Abd         NaN         A4532   \n",
       "4          5       15.0  Viera, Michael 'Power'         NaN         V6524   \n",
       "...      ...        ...                     ...         ...           ...   \n",
       "45288  45290   117569.0         Belassky, Marty         NaN         B4256   \n",
       "45289  45291   117572.0        Bellagio, Enrico         NaN         B4256   \n",
       "45290  45292   117575.0                    Nour         NaN            N6   \n",
       "45291  45293   117577.0          Prince, Franck         NaN         P6521   \n",
       "45292   4529        NaN                     NaN         NaN           NaN   \n",
       "\n",
       "      name_pcode_nf surname_pcode                            md5sum  \n",
       "0             J2542           S53  25c9d464e3ff2957533546aa92b397ed  \n",
       "1              T263           NaN  4e26116e5f9800cef90c8f8c38de2584  \n",
       "2             J1613           NaN  fb5126fe9992e13156c636d726cec257  \n",
       "3             J1613          A453  179ad5f75c84c4bddd6733c66b6b0bb7  \n",
       "4             M2416            V6  354cea2b99f8b1f745ea6092eefa2bd7  \n",
       "...             ...           ...                               ...  \n",
       "45288         M6314           B42  741cfe1297594d5bf1d23ef2a048ae7d  \n",
       "45289         E5621           B42  2f321c03489dec81ed7a4a68f441c788  \n",
       "45290           NaN           NaN  9ceb5b2ab20ce8664d5744f7c8c52b72  \n",
       "45291         F6521          P652  94b1d9117b31540b8d816dfbe1b92f96  \n",
       "45292           NaN           NaN                               NaN  \n",
       "\n",
       "[45293 rows x 8 columns]"
      ]
     },
     "execution_count": 12,
     "metadata": {},
     "output_type": "execute_result"
    }
   ],
   "source": [
    "df"
   ]
  },
  {
   "cell_type": "code",
   "execution_count": 20,
   "id": "510e485b",
   "metadata": {},
   "outputs": [],
   "source": [
    "min_person_id = df['person_id'].min()\n",
    "max_person_id = df['person_id'].max()"
   ]
  },
  {
   "cell_type": "code",
   "execution_count": 21,
   "id": "42797875",
   "metadata": {},
   "outputs": [],
   "source": [
    "lst_name = df['name'].unique()"
   ]
  },
  {
   "cell_type": "code",
   "execution_count": 23,
   "id": "1cb8f604",
   "metadata": {},
   "outputs": [],
   "source": [
    "lst_name_pcode_cf = df['name_pcode_cf'].unique()"
   ]
  },
  {
   "cell_type": "code",
   "execution_count": 26,
   "id": "9e2bf75b",
   "metadata": {},
   "outputs": [],
   "source": [
    "lst_name_pcode_nf = df['name_pcode_nf'].unique()"
   ]
  },
  {
   "cell_type": "code",
   "execution_count": 28,
   "id": "09c8062b",
   "metadata": {},
   "outputs": [],
   "source": [
    "lst_surname_pcode = df['surname_pcode'].unique()"
   ]
  },
  {
   "cell_type": "code",
   "execution_count": 29,
   "id": "0647b964",
   "metadata": {},
   "outputs": [],
   "source": [
    "lst_md5sum = df['md5sum'].unique()"
   ]
  },
  {
   "cell_type": "code",
   "execution_count": 31,
   "id": "c339b697",
   "metadata": {},
   "outputs": [],
   "source": [
    "df = pd.read_csv('~/company_type.csv')"
   ]
  },
  {
   "cell_type": "code",
   "execution_count": 44,
   "id": "285c7495",
   "metadata": {},
   "outputs": [],
   "source": [
    "df = pd.read_csv('~/role_type.csv')"
   ]
  },
  {
   "cell_type": "code",
   "execution_count": 33,
   "id": "a97fadbb",
   "metadata": {},
   "outputs": [],
   "source": [
    "min_company_id = df['id'].min()\n",
    "max_company_id = df['id'].max()"
   ]
  },
  {
   "cell_type": "code",
   "execution_count": 35,
   "id": "0825f60c",
   "metadata": {},
   "outputs": [],
   "source": [
    "lst_name = df['name'].unique()"
   ]
  },
  {
   "cell_type": "code",
   "execution_count": 45,
   "id": "be64ba52",
   "metadata": {},
   "outputs": [
    {
     "data": {
      "text/plain": [
       "Index(['id', 'role'], dtype='object')"
      ]
     },
     "execution_count": 45,
     "metadata": {},
     "output_type": "execute_result"
    }
   ],
   "source": [
    "df.columns"
   ]
  },
  {
   "cell_type": "code",
   "execution_count": 41,
   "id": "1b449e35",
   "metadata": {},
   "outputs": [],
   "source": [
    "lst_country_code = df[' country_code'].unique()"
   ]
  },
  {
   "cell_type": "code",
   "execution_count": 47,
   "id": "cbc2e511",
   "metadata": {},
   "outputs": [],
   "source": [
    "lst_role_type = df['role'].unique()"
   ]
  },
  {
   "cell_type": "code",
   "execution_count": 50,
   "id": "01cb651e",
   "metadata": {},
   "outputs": [],
   "source": [
    "description = dict()"
   ]
  },
  {
   "cell_type": "code",
   "execution_count": 51,
   "id": "86601e73",
   "metadata": {},
   "outputs": [],
   "source": [
    "description['cn.country_code'] = lst_country_code"
   ]
  },
  {
   "cell_type": "code",
   "execution_count": 52,
   "id": "9100e8d9",
   "metadata": {},
   "outputs": [],
   "source": [
    "description['rt.role'] = lst_role_type"
   ]
  },
  {
   "cell_type": "code",
   "execution_count": 48,
   "id": "e6eceecd",
   "metadata": {},
   "outputs": [],
   "source": [
    "str_sql = \"\"\"\n",
    "SELECT MIN(chn.name) AS uncredited_voiced_character,\n",
    "       MIN(t.title) AS russian_movie\n",
    "FROM char_name AS chn,\n",
    "     cast_info AS ci,\n",
    "     company_name AS cn,\n",
    "     company_type AS ct,\n",
    "     movie_companies AS mc,\n",
    "     role_type AS rt,\n",
    "     title AS t\n",
    "WHERE ci.note LIKE '%(voice)%'\n",
    "  AND ci.note LIKE '%(uncredited)%'\n",
    "  AND cn.country_code = '[ru]'\n",
    "  AND rt.role = 'actor'\n",
    "  AND t.production_year > 2005\n",
    "  AND t.id = mc.movie_id\n",
    "  AND t.id = ci.movie_id\n",
    "  AND ci.movie_id = mc.movie_id\n",
    "  AND chn.id = ci.person_role_id\n",
    "  AND rt.id = ci.role_id\n",
    "  AND cn.id = mc.company_id\n",
    "  AND ct.id = mc.company_type_id;\"\"\""
   ]
  },
  {
   "cell_type": "code",
   "execution_count": 54,
   "id": "d3f7278e",
   "metadata": {},
   "outputs": [],
   "source": [
    "from random import randint"
   ]
  },
  {
   "cell_type": "code",
   "execution_count": 55,
   "id": "8abd5472",
   "metadata": {},
   "outputs": [],
   "source": [
    "def get_random(lst):\n",
    "    len_lst = len(lst)\n",
    "    return lst[randint(0,len_lst)]"
   ]
  },
  {
   "cell_type": "code",
   "execution_count": 56,
   "id": "952f16d3",
   "metadata": {},
   "outputs": [
    {
     "data": {
      "text/plain": [
       "array(['[de]', '[us]', '[gb]', '[it]', '[es]', '[fi]', '[fr]', '[ee]',\n",
       "       '[in]', '[hk]', '[gr]', nan, '[jp]', '[za]', '[be]', '[ie]',\n",
       "       '[br]', '[ca]', '[ar]', '[mx]', '[ch]', '[rs]', '[se]', '[hu]',\n",
       "       '[au]', '[nl]', '[ru]', '[kr]', '[my]', '[cn]', '[nz]', '[ph]',\n",
       "       '[at]', '[uy]', '[il]', '[tr]', '[ve]', '[dz]', '[pt]', '[is]',\n",
       "       '[eg]', '[ua]', '[cl]', '[dk]', '[suhh]', '[th]', '[mt]', '[sa]',\n",
       "       '[ro]', '[ir]', '[ec]', '[ddde]', '[ba]', '[xyu]', '[sg]', '[no]',\n",
       "       '[cshh]', '[tw]', '[pr]', '[bd]', '[cz]', '[hr]', '[pl]', '[lv]',\n",
       "       '[sk]', '[ge]', '[mo]', '[ae]', '[lt]', '[bg]', '[lb]', '[ni]',\n",
       "       '[cr]', '[mk]', '[pk]', '[al]', '[sd]', '[ma]', '[bh]', '[pe]',\n",
       "       '[tj]', '[sr]', '[vn]', '[cu]', '[co]', '[tt]', '[kz]', '[si]',\n",
       "       '[by]', '[na]', '[dm]', '[do]', '[qa]', '[id]', '[kh]', '[ci]',\n",
       "       '[lu]', '[bo]', '[md]', '[np]', '[ng]', '[ao]', '[gt]', '[py]',\n",
       "       '[bl]', '[am]', '[az]', '[sv]', '[kp]', '[zm]', '[rw]', '[bw]',\n",
       "       '[vg]', '[ke]', '[et]', '[hn]', '[cy]', '[af]', '[ky]', '[tn]',\n",
       "       '[bf]', '[ps]', '[bn]', '[lk]', '[mc]', '[om]', '[gi]', '[sl]',\n",
       "       '[pa]', '[jo]', '[sy]', '[ag]', '[bb]', '[ad]', '[tz]', '[bz]',\n",
       "       '[gh]', '[gp]', '[mn]', '[fo]', '[la]', '[aw]', '[sn]', '[tf]',\n",
       "       '[sz]', '[um]', '[bm]', '[zw]', '[td]', '[ug]', '[ht]', '[yucs]',\n",
       "       '[kw]', '[lc]', '[gd]', '[tl]', '[gu]', '[iq]', '[ly]', '[tm]',\n",
       "       '[bt]', '[bi]'], dtype=object)"
      ]
     },
     "execution_count": 56,
     "metadata": {},
     "output_type": "execute_result"
    }
   ],
   "source": [
    "description['cn.country_code']"
   ]
  },
  {
   "cell_type": "code",
   "execution_count": null,
   "id": "a67eeb46",
   "metadata": {},
   "outputs": [],
   "source": []
  }
 ],
 "metadata": {
  "kernelspec": {
   "display_name": "Python 3 (ipykernel)",
   "language": "python",
   "name": "python3"
  },
  "language_info": {
   "codemirror_mode": {
    "name": "ipython",
    "version": 3
   },
   "file_extension": ".py",
   "mimetype": "text/x-python",
   "name": "python",
   "nbconvert_exporter": "python",
   "pygments_lexer": "ipython3",
   "version": "3.9.12"
  }
 },
 "nbformat": 4,
 "nbformat_minor": 5
}
